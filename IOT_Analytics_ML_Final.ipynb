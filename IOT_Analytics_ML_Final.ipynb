{
 "cells": [
  {
   "cell_type": "code",
   "execution_count": 1,
   "metadata": {},
   "outputs": [],
   "source": [
    "### Step 1"
   ]
  },
  {
   "cell_type": "code",
   "execution_count": 2,
   "metadata": {},
   "outputs": [],
   "source": [
    "# This Python 3 environment comes with many helpful analytics libraries installed\n",
    "# It is defined by the kaggle/python docker image: https://github.com/kaggle/docker-python\n",
    "# For example, here's several helpful packages to load in \n",
    "\n",
    "import numpy as np # linear algebra\n",
    "import pandas as pd # data processing, CSV file I/O (e.g. pd.read_csv)\n",
    "\n",
    "# Input data files are available in the \"../input/\" directory.\n",
    "# For example, running this (by clicking run or pressing Shift+Enter) will list the files in the input directory\n",
    "\n",
    "from subprocess import check_output\n",
    "# print(check_output([\"ls\", \"../input\"]).decode(\"utf8\"))\n",
    "\n",
    "# Any results you write to the current directory are saved as output.\n",
    "\n",
    "import os\n",
    "import pandas as pd\n",
    "import numpy as np\n",
    "import matplotlib.pyplot as plt\n",
    "from datetime import datetime\n",
    "import time\n",
    "from sklearn.ensemble import ExtraTreesClassifier\n",
    "import operator\n",
    "from sklearn.tree import DecisionTreeClassifier\n",
    "from sklearn.preprocessing import StandardScaler\n",
    "np.random.seed(0)"
   ]
  },
  {
   "cell_type": "code",
   "execution_count": 3,
   "metadata": {},
   "outputs": [],
   "source": [
    "# Warning Libraries :\n",
    "import warnings\n",
    "warnings.filterwarnings(\"ignore\")\n",
    "\n",
    "# Scientific and Data Manipulation Libraries :\n",
    "import pandas as pd\n",
    "from pandas.api.types import is_object_dtype, is_categorical\n",
    "import numpy as np\n",
    "import math\n",
    "import gc\n",
    "import os\n",
    "\n",
    "# Data Viz & Regular Expression Libraries :\n",
    "import matplotlib.pyplot as plt\n",
    "import seaborn as sns\n",
    "import re\n",
    "\n",
    "# Scikit-Learn ML Libraries :\n",
    "from sklearn.externals                import joblib\n",
    "from sklearn.preprocessing            import LabelEncoder, OneHotEncoder \n",
    "from sklearn.preprocessing            import StandardScaler, MinMaxScaler, Normalizer, RobustScaler, MaxAbsScaler\n",
    "from sklearn.model_selection          import GridSearchCV, KFold, StratifiedKFold, train_test_split, cross_val_score\n",
    "from sklearn.linear_model             import SGDClassifier, LogisticRegression, LinearRegression\n",
    "from sklearn.linear_model             import MultiTaskElasticNet, ElasticNet, Lasso, RidgeClassifier, PassiveAggressiveClassifier\n",
    "from sklearn.neighbors                import KNeighborsClassifier\n",
    "from sklearn.svm                      import SVC, LinearSVC, NuSVC\n",
    "from sklearn.gaussian_process         import GaussianProcessClassifier\n",
    "from sklearn.gaussian_process.kernels import RBF\n",
    "from sklearn.tree                     import DecisionTreeClassifier\n",
    "from sklearn.experimental             import enable_hist_gradient_boosting\n",
    "from sklearn.ensemble                 import ExtraTreesClassifier, VotingClassifier, RandomForestClassifier\n",
    "from sklearn.ensemble                 import BaggingClassifier, AdaBoostClassifier, GradientBoostingClassifier, HistGradientBoostingClassifier\n",
    "from sklearn.naive_bayes              import MultinomialNB, GaussianNB, BernoulliNB, CategoricalNB, ComplementNB\n",
    "from sklearn.discriminant_analysis    import LinearDiscriminantAnalysis, QuadraticDiscriminantAnalysis\n",
    "from sklearn.metrics                  import f1_score, accuracy_score, precision_score , recall_score, roc_auc_score, log_loss\n",
    "from sklearn.metrics                  import confusion_matrix, classification_report\n",
    "from sklearn.decomposition            import IncrementalPCA\n",
    "from sklearn.pipeline                 import Pipeline\n",
    "from sklearn.impute                   import SimpleImputer\n",
    "from sklearn.compose                  import ColumnTransformer\n",
    "\n",
    "# ML Statsmodels Libraries :\n",
    "from statsmodels.stats.proportion     import proportion_confint\n",
    "\n",
    "# Boosting Algorithms :\n",
    "from xgboost                          import XGBClassifier\n",
    "from catboost                         import CatBoostClassifier\n",
    "from lightgbm                         import LGBMClassifier"
   ]
  },
  {
   "cell_type": "code",
   "execution_count": 4,
   "metadata": {},
   "outputs": [],
   "source": [
    "def datetounix(df):\n",
    "    # Initialising unixtime list\n",
    "    unixtime = []\n",
    "    \n",
    "    # Running a loop for converting Date to seconds\n",
    "    for date in df['DateTime']:\n",
    "        unixtime.append(time.mktime(date.timetuple()))\n",
    "    \n",
    "    # Replacing Date with unixtime list\n",
    "    df['DateTime'] = unixtime\n",
    "    return(df)"
   ]
  },
  {
   "cell_type": "code",
   "execution_count": 5,
   "metadata": {},
   "outputs": [],
   "source": [
    "# Step 2 : Data Cleaning"
   ]
  },
  {
   "cell_type": "code",
   "execution_count": 6,
   "metadata": {},
   "outputs": [],
   "source": [
    "# Set Location path :\n",
    "import os\n",
    "os.chdir(\"C:/Users/LD196YS/Desktop/0.                          Winning_Kaggle/1. AV - HR Analytics Hackathon/0.      IOT ML Hackathon/\")"
   ]
  },
  {
   "cell_type": "code",
   "execution_count": 7,
   "metadata": {},
   "outputs": [
    {
     "data": {
      "text/plain": [
       "'C:\\\\Users\\\\LD196YS\\\\Desktop\\\\0.                          Winning_Kaggle\\\\1. AV - HR Analytics Hackathon\\\\0.      IOT ML Hackathon'"
      ]
     },
     "execution_count": 7,
     "metadata": {},
     "output_type": "execute_result"
    }
   ],
   "source": [
    "pwd"
   ]
  },
  {
   "cell_type": "code",
   "execution_count": 8,
   "metadata": {},
   "outputs": [],
   "source": [
    "train = pd.read_csv(r'1.Data/train_aWnotuB.csv', encoding='ISO-8859-1', engine='c')\n",
    "train.drop([\"ID\"],axis = 1,inplace=True)\n",
    "\n",
    "test  = pd.read_csv(r'1.Data/test_BdBKkAj_L87Nc3S.csv' , encoding='ISO-8859-1', engine='c')\n",
    "test_ID = test[\"ID\"]\n",
    "test.drop([\"ID\"],axis = 1,inplace=True)"
   ]
  },
  {
   "cell_type": "code",
   "execution_count": 9,
   "metadata": {},
   "outputs": [],
   "source": [
    "def display_head_tail(data, head_rows, tail_rows):\n",
    "    \n",
    "    print(\"### Data Head : ###\")\n",
    "    display(data.head(head_rows))\n",
    "    print(\"\")\n",
    "    print(\"### Data Tail : ###\")\n",
    "    display(data.tail(tail_rows))\n",
    "    \n",
    "    return True"
   ]
  },
  {
   "cell_type": "code",
   "execution_count": 10,
   "metadata": {},
   "outputs": [],
   "source": [
    "def display_data_information(data, data_types):\n",
    "    print(\"### Data Information : ###\\n\")\n",
    "    data.info()\n",
    "    print(\"\")\n",
    "    for VARIABLE in data_types :\n",
    "        data_type = data.select_dtypes(include=[ VARIABLE ]).dtypes\n",
    "        if len(data_type) > 0 :\n",
    "            print(\"### Data - \"+str(len(data_type))+\" \"+VARIABLE+\" Columns : ###\")\n",
    "            display(data_type)\n",
    "    return True"
   ]
  },
  {
   "cell_type": "code",
   "execution_count": 11,
   "metadata": {},
   "outputs": [],
   "source": [
    "def display_data_description(data, numeric_data_types, categorical_data_types):\n",
    "    print(\"\")\n",
    "    print(\"### Data Description : ###\")\n",
    "    display(data.describe( include = numeric_data_types))\n",
    "    display(data.describe( include = categorical_data_types))\n",
    "    return True"
   ]
  },
  {
   "cell_type": "code",
   "execution_count": 12,
   "metadata": {},
   "outputs": [],
   "source": [
    "def display_unique(data):\n",
    "    for column in data.columns :\n",
    "        \n",
    "        print(\"No of Unique Values in \"+column+\" Column are : \"+str(data[column].nunique()))\n",
    "        print(\"Actual Unique Values in \"+column+\" Column are : \"+str(data[column].sort_values(ascending=True,na_position='last').unique() ))\n",
    "        print(\"NULL Values :\")\n",
    "        print(data[ column ].isnull().sum())\n",
    "        print(\"Value Counts :\")\n",
    "        print(data[column].value_counts())\n",
    "        print(\"\")"
   ]
  },
  {
   "cell_type": "code",
   "execution_count": 13,
   "metadata": {},
   "outputs": [],
   "source": [
    "def remove_duplicate(data):\n",
    "    \n",
    "    print(\"BEFORE REMOVING DUPLICATES : \",data.shape)\n",
    "    data.drop_duplicates(keep=False, inplace=True) \n",
    "    print(\"AFTER REMOVING DUPLICATES : \",data.shape)\n",
    "    \n",
    "    return data"
   ]
  },
  {
   "cell_type": "code",
   "execution_count": 14,
   "metadata": {},
   "outputs": [
    {
     "name": "stdout",
     "output_type": "stream",
     "text": [
      "### Data Information : ###\n",
      "\n",
      "<class 'pandas.core.frame.DataFrame'>\n",
      "RangeIndex: 48120 entries, 0 to 48119\n",
      "Data columns (total 3 columns):\n",
      "DateTime    48120 non-null object\n",
      "Junction    48120 non-null int64\n",
      "Vehicles    48120 non-null int64\n",
      "dtypes: int64(2), object(1)\n",
      "memory usage: 1.1+ MB\n",
      "\n",
      "### Data - 2 int64 Columns : ###\n"
     ]
    },
    {
     "data": {
      "text/plain": [
       "Junction    int64\n",
       "Vehicles    int64\n",
       "dtype: object"
      ]
     },
     "metadata": {},
     "output_type": "display_data"
    },
    {
     "name": "stdout",
     "output_type": "stream",
     "text": [
      "### Data - 1 object Columns : ###\n"
     ]
    },
    {
     "data": {
      "text/plain": [
       "DateTime    object\n",
       "dtype: object"
      ]
     },
     "metadata": {},
     "output_type": "display_data"
    },
    {
     "name": "stdout",
     "output_type": "stream",
     "text": [
      "### Data Head : ###\n"
     ]
    },
    {
     "data": {
      "text/html": [
       "<div>\n",
       "<style scoped>\n",
       "    .dataframe tbody tr th:only-of-type {\n",
       "        vertical-align: middle;\n",
       "    }\n",
       "\n",
       "    .dataframe tbody tr th {\n",
       "        vertical-align: top;\n",
       "    }\n",
       "\n",
       "    .dataframe thead th {\n",
       "        text-align: right;\n",
       "    }\n",
       "</style>\n",
       "<table border=\"1\" class=\"dataframe\">\n",
       "  <thead>\n",
       "    <tr style=\"text-align: right;\">\n",
       "      <th></th>\n",
       "      <th>DateTime</th>\n",
       "      <th>Junction</th>\n",
       "      <th>Vehicles</th>\n",
       "    </tr>\n",
       "  </thead>\n",
       "  <tbody>\n",
       "    <tr>\n",
       "      <th>0</th>\n",
       "      <td>2015-11-01 00:00:00</td>\n",
       "      <td>1</td>\n",
       "      <td>15</td>\n",
       "    </tr>\n",
       "    <tr>\n",
       "      <th>1</th>\n",
       "      <td>2015-11-01 01:00:00</td>\n",
       "      <td>1</td>\n",
       "      <td>13</td>\n",
       "    </tr>\n",
       "    <tr>\n",
       "      <th>2</th>\n",
       "      <td>2015-11-01 02:00:00</td>\n",
       "      <td>1</td>\n",
       "      <td>10</td>\n",
       "    </tr>\n",
       "    <tr>\n",
       "      <th>3</th>\n",
       "      <td>2015-11-01 03:00:00</td>\n",
       "      <td>1</td>\n",
       "      <td>7</td>\n",
       "    </tr>\n",
       "    <tr>\n",
       "      <th>4</th>\n",
       "      <td>2015-11-01 04:00:00</td>\n",
       "      <td>1</td>\n",
       "      <td>9</td>\n",
       "    </tr>\n",
       "  </tbody>\n",
       "</table>\n",
       "</div>"
      ],
      "text/plain": [
       "              DateTime  Junction  Vehicles\n",
       "0  2015-11-01 00:00:00         1        15\n",
       "1  2015-11-01 01:00:00         1        13\n",
       "2  2015-11-01 02:00:00         1        10\n",
       "3  2015-11-01 03:00:00         1         7\n",
       "4  2015-11-01 04:00:00         1         9"
      ]
     },
     "metadata": {},
     "output_type": "display_data"
    },
    {
     "name": "stdout",
     "output_type": "stream",
     "text": [
      "\n",
      "### Data Tail : ###\n"
     ]
    },
    {
     "data": {
      "text/html": [
       "<div>\n",
       "<style scoped>\n",
       "    .dataframe tbody tr th:only-of-type {\n",
       "        vertical-align: middle;\n",
       "    }\n",
       "\n",
       "    .dataframe tbody tr th {\n",
       "        vertical-align: top;\n",
       "    }\n",
       "\n",
       "    .dataframe thead th {\n",
       "        text-align: right;\n",
       "    }\n",
       "</style>\n",
       "<table border=\"1\" class=\"dataframe\">\n",
       "  <thead>\n",
       "    <tr style=\"text-align: right;\">\n",
       "      <th></th>\n",
       "      <th>DateTime</th>\n",
       "      <th>Junction</th>\n",
       "      <th>Vehicles</th>\n",
       "    </tr>\n",
       "  </thead>\n",
       "  <tbody>\n",
       "    <tr>\n",
       "      <th>48118</th>\n",
       "      <td>2017-06-30 22:00:00</td>\n",
       "      <td>4</td>\n",
       "      <td>22</td>\n",
       "    </tr>\n",
       "    <tr>\n",
       "      <th>48119</th>\n",
       "      <td>2017-06-30 23:00:00</td>\n",
       "      <td>4</td>\n",
       "      <td>12</td>\n",
       "    </tr>\n",
       "  </tbody>\n",
       "</table>\n",
       "</div>"
      ],
      "text/plain": [
       "                  DateTime  Junction  Vehicles\n",
       "48118  2017-06-30 22:00:00         4        22\n",
       "48119  2017-06-30 23:00:00         4        12"
      ]
     },
     "metadata": {},
     "output_type": "display_data"
    },
    {
     "name": "stdout",
     "output_type": "stream",
     "text": [
      "\n",
      "### Data Description : ###\n"
     ]
    },
    {
     "data": {
      "text/html": [
       "<div>\n",
       "<style scoped>\n",
       "    .dataframe tbody tr th:only-of-type {\n",
       "        vertical-align: middle;\n",
       "    }\n",
       "\n",
       "    .dataframe tbody tr th {\n",
       "        vertical-align: top;\n",
       "    }\n",
       "\n",
       "    .dataframe thead th {\n",
       "        text-align: right;\n",
       "    }\n",
       "</style>\n",
       "<table border=\"1\" class=\"dataframe\">\n",
       "  <thead>\n",
       "    <tr style=\"text-align: right;\">\n",
       "      <th></th>\n",
       "      <th>Junction</th>\n",
       "      <th>Vehicles</th>\n",
       "    </tr>\n",
       "  </thead>\n",
       "  <tbody>\n",
       "    <tr>\n",
       "      <th>count</th>\n",
       "      <td>48120.000000</td>\n",
       "      <td>48120.000000</td>\n",
       "    </tr>\n",
       "    <tr>\n",
       "      <th>mean</th>\n",
       "      <td>2.180549</td>\n",
       "      <td>22.791334</td>\n",
       "    </tr>\n",
       "    <tr>\n",
       "      <th>std</th>\n",
       "      <td>0.966955</td>\n",
       "      <td>20.750063</td>\n",
       "    </tr>\n",
       "    <tr>\n",
       "      <th>min</th>\n",
       "      <td>1.000000</td>\n",
       "      <td>1.000000</td>\n",
       "    </tr>\n",
       "    <tr>\n",
       "      <th>25%</th>\n",
       "      <td>1.000000</td>\n",
       "      <td>9.000000</td>\n",
       "    </tr>\n",
       "    <tr>\n",
       "      <th>50%</th>\n",
       "      <td>2.000000</td>\n",
       "      <td>15.000000</td>\n",
       "    </tr>\n",
       "    <tr>\n",
       "      <th>75%</th>\n",
       "      <td>3.000000</td>\n",
       "      <td>29.000000</td>\n",
       "    </tr>\n",
       "    <tr>\n",
       "      <th>max</th>\n",
       "      <td>4.000000</td>\n",
       "      <td>180.000000</td>\n",
       "    </tr>\n",
       "  </tbody>\n",
       "</table>\n",
       "</div>"
      ],
      "text/plain": [
       "           Junction      Vehicles\n",
       "count  48120.000000  48120.000000\n",
       "mean       2.180549     22.791334\n",
       "std        0.966955     20.750063\n",
       "min        1.000000      1.000000\n",
       "25%        1.000000      9.000000\n",
       "50%        2.000000     15.000000\n",
       "75%        3.000000     29.000000\n",
       "max        4.000000    180.000000"
      ]
     },
     "metadata": {},
     "output_type": "display_data"
    },
    {
     "data": {
      "text/html": [
       "<div>\n",
       "<style scoped>\n",
       "    .dataframe tbody tr th:only-of-type {\n",
       "        vertical-align: middle;\n",
       "    }\n",
       "\n",
       "    .dataframe tbody tr th {\n",
       "        vertical-align: top;\n",
       "    }\n",
       "\n",
       "    .dataframe thead th {\n",
       "        text-align: right;\n",
       "    }\n",
       "</style>\n",
       "<table border=\"1\" class=\"dataframe\">\n",
       "  <thead>\n",
       "    <tr style=\"text-align: right;\">\n",
       "      <th></th>\n",
       "      <th>DateTime</th>\n",
       "    </tr>\n",
       "  </thead>\n",
       "  <tbody>\n",
       "    <tr>\n",
       "      <th>count</th>\n",
       "      <td>48120</td>\n",
       "    </tr>\n",
       "    <tr>\n",
       "      <th>unique</th>\n",
       "      <td>14592</td>\n",
       "    </tr>\n",
       "    <tr>\n",
       "      <th>top</th>\n",
       "      <td>2017-06-22 13:00:00</td>\n",
       "    </tr>\n",
       "    <tr>\n",
       "      <th>freq</th>\n",
       "      <td>4</td>\n",
       "    </tr>\n",
       "  </tbody>\n",
       "</table>\n",
       "</div>"
      ],
      "text/plain": [
       "                   DateTime\n",
       "count                 48120\n",
       "unique                14592\n",
       "top     2017-06-22 13:00:00\n",
       "freq                      4"
      ]
     },
     "metadata": {},
     "output_type": "display_data"
    },
    {
     "name": "stdout",
     "output_type": "stream",
     "text": [
      "BEFORE REMOVING DUPLICATES :  (48120, 3)\n",
      "AFTER REMOVING DUPLICATES :  (48120, 3)\n"
     ]
    }
   ],
   "source": [
    "data_types             = [\"float32\",\"float64\",\"int32\",\"int64\",\"object\",\"category\"]\n",
    "\n",
    "# train[\"Surge_Pricing_Type\"] = train[\"Surge_Pricing_Type\"].astype('object')\n",
    "\n",
    "# Display Data Information :\n",
    "display_data_information(train, data_types)\n",
    "\n",
    "# Display Data Head and Tail :\n",
    "display_head_tail(train, head_rows=5, tail_rows=2)\n",
    "\n",
    "# Display Data Description :\n",
    "display_data_description(train, data_types[0:4], data_types[4:6])\n",
    "\n",
    "# display_count_graph(train)\n",
    "\n",
    "train = remove_duplicate(train)\n",
    "\n",
    "# display_count_graph(train)"
   ]
  },
  {
   "cell_type": "code",
   "execution_count": 15,
   "metadata": {},
   "outputs": [
    {
     "name": "stdout",
     "output_type": "stream",
     "text": [
      "No of Unique Values in DateTime Column are : 14592\n",
      "Actual Unique Values in DateTime Column are : ['2015-11-01 00:00:00' '2015-11-01 01:00:00' '2015-11-01 02:00:00' ...\n",
      " '2017-06-30 21:00:00' '2017-06-30 22:00:00' '2017-06-30 23:00:00']\n",
      "NULL Values :\n",
      "0\n",
      "Value Counts :\n",
      "2017-06-22 13:00:00    4\n",
      "2017-06-27 23:00:00    4\n",
      "2017-03-20 00:00:00    4\n",
      "2017-02-12 05:00:00    4\n",
      "2017-02-13 17:00:00    4\n",
      "2017-05-29 08:00:00    4\n",
      "2017-03-12 19:00:00    4\n",
      "2017-05-18 13:00:00    4\n",
      "2017-03-12 13:00:00    4\n",
      "2017-06-20 04:00:00    4\n",
      "2017-03-28 16:00:00    4\n",
      "2017-06-25 19:00:00    4\n",
      "2017-01-15 11:00:00    4\n",
      "2017-01-30 14:00:00    4\n",
      "2017-01-24 10:00:00    4\n",
      "2017-05-17 03:00:00    4\n",
      "2017-02-04 06:00:00    4\n",
      "2017-03-27 04:00:00    4\n",
      "2017-01-31 00:00:00    4\n",
      "2017-01-23 09:00:00    4\n",
      "2017-02-23 06:00:00    4\n",
      "2017-01-11 03:00:00    4\n",
      "2017-02-23 07:00:00    4\n",
      "2017-03-08 21:00:00    4\n",
      "2017-02-20 22:00:00    4\n",
      "2017-06-05 20:00:00    4\n",
      "2017-03-10 11:00:00    4\n",
      "2017-01-21 00:00:00    4\n",
      "2017-04-04 02:00:00    4\n",
      "2017-02-28 20:00:00    4\n",
      "                      ..\n",
      "2016-02-14 01:00:00    3\n",
      "2016-11-15 10:00:00    3\n",
      "2016-07-21 17:00:00    3\n",
      "2016-12-08 09:00:00    3\n",
      "2016-06-17 17:00:00    3\n",
      "2016-02-16 01:00:00    3\n",
      "2016-08-20 15:00:00    3\n",
      "2016-02-21 02:00:00    3\n",
      "2016-06-05 12:00:00    3\n",
      "2016-02-12 12:00:00    3\n",
      "2016-12-10 18:00:00    3\n",
      "2016-04-18 14:00:00    3\n",
      "2016-05-03 02:00:00    3\n",
      "2016-05-15 09:00:00    3\n",
      "2016-04-22 18:00:00    3\n",
      "2016-03-08 21:00:00    3\n",
      "2015-11-22 15:00:00    3\n",
      "2016-02-23 13:00:00    3\n",
      "2016-11-12 05:00:00    3\n",
      "2015-11-19 14:00:00    3\n",
      "2016-11-14 05:00:00    3\n",
      "2016-09-27 13:00:00    3\n",
      "2016-06-17 02:00:00    3\n",
      "2016-11-29 10:00:00    3\n",
      "2016-02-17 01:00:00    3\n",
      "2016-11-30 10:00:00    3\n",
      "2015-11-11 23:00:00    3\n",
      "2016-08-21 23:00:00    3\n",
      "2016-01-29 21:00:00    3\n",
      "2016-02-18 01:00:00    3\n",
      "Name: DateTime, Length: 14592, dtype: int64\n",
      "\n",
      "No of Unique Values in Junction Column are : 4\n",
      "Actual Unique Values in Junction Column are : [1 2 3 4]\n",
      "NULL Values :\n",
      "0\n",
      "Value Counts :\n",
      "3    14592\n",
      "2    14592\n",
      "1    14592\n",
      "4     4344\n",
      "Name: Junction, dtype: int64\n",
      "\n",
      "No of Unique Values in Vehicles Column are : 141\n",
      "Actual Unique Values in Vehicles Column are : [  1   2   3   4   5   6   7   8   9  10  11  12  13  14  15  16  17  18\n",
      "  19  20  21  22  23  24  25  26  27  28  29  30  31  32  33  34  35  36\n",
      "  37  38  39  40  41  42  43  44  45  46  47  48  49  50  51  52  53  54\n",
      "  55  56  57  58  59  60  61  62  63  64  65  66  67  68  69  70  71  72\n",
      "  73  74  75  76  77  78  79  80  81  82  83  84  85  86  87  88  89  90\n",
      "  91  92  93  94  95  96  97  98  99 100 101 102 103 104 105 106 107 108\n",
      " 109 110 111 112 113 114 115 116 117 118 119 120 121 122 123 124 125 126\n",
      " 127 128 129 132 133 134 135 136 140 141 143 156 162 173 180]\n",
      "NULL Values :\n",
      "0\n",
      "Value Counts :\n",
      "8      2325\n",
      "9      2290\n",
      "7      2220\n",
      "6      2206\n",
      "10     2145\n",
      "11     2008\n",
      "12     1850\n",
      "5      1768\n",
      "13     1694\n",
      "14     1651\n",
      "15     1589\n",
      "16     1487\n",
      "17     1391\n",
      "4      1311\n",
      "18     1210\n",
      "19     1054\n",
      "20      963\n",
      "3       825\n",
      "21      795\n",
      "22      744\n",
      "23      672\n",
      "24      633\n",
      "26      584\n",
      "25      578\n",
      "27      523\n",
      "28      511\n",
      "29      493\n",
      "30      490\n",
      "31      478\n",
      "32      454\n",
      "       ... \n",
      "114      13\n",
      "113      13\n",
      "108      11\n",
      "115      11\n",
      "116       7\n",
      "120       5\n",
      "119       5\n",
      "124       5\n",
      "128       4\n",
      "117       4\n",
      "121       4\n",
      "134       4\n",
      "132       2\n",
      "136       2\n",
      "122       2\n",
      "133       2\n",
      "118       2\n",
      "129       1\n",
      "180       1\n",
      "156       1\n",
      "162       1\n",
      "126       1\n",
      "143       1\n",
      "123       1\n",
      "125       1\n",
      "173       1\n",
      "141       1\n",
      "135       1\n",
      "140       1\n",
      "127       1\n",
      "Name: Vehicles, Length: 141, dtype: int64\n",
      "\n"
     ]
    }
   ],
   "source": [
    "# Display Unique Values in Columns :\n",
    "display_unique(train)"
   ]
  },
  {
   "cell_type": "code",
   "execution_count": 16,
   "metadata": {},
   "outputs": [
    {
     "name": "stdout",
     "output_type": "stream",
     "text": [
      "<class 'pandas.core.frame.DataFrame'>\n",
      "RangeIndex: 11808 entries, 0 to 11807\n",
      "Data columns (total 2 columns):\n",
      "DateTime    11808 non-null datetime64[ns]\n",
      "Junction    11808 non-null int64\n",
      "dtypes: datetime64[ns](1), int64(1)\n",
      "memory usage: 184.6 KB\n"
     ]
    }
   ],
   "source": [
    "# Converting to datetime\n",
    "train['DateTime'] = pd.to_datetime(train['DateTime'])\n",
    "test['DateTime'] = pd.to_datetime(test['DateTime'])\n",
    "test.info()"
   ]
  },
  {
   "cell_type": "code",
   "execution_count": 17,
   "metadata": {},
   "outputs": [],
   "source": [
    "# Creating features from DateTime for train data\n",
    "\n",
    "train['Weekday'] = [datetime.weekday(date) for date in train.DateTime]\n",
    "train['Year'] = [date.year for date in train.DateTime]\n",
    "train['Month'] = [date.month for date in train.DateTime]\n",
    "train['Day'] = [date.day for date in train.DateTime]\n",
    "train['Time'] = [((date.hour*60+(date.minute))*60)+date.second for date in train.DateTime]\n",
    "train['Week'] = [date.week for date in train.DateTime]\n",
    "train['Quarter'] = [date.quarter for date in train.DateTime]\n",
    "\n",
    "# Creating features from DateTime for test data\n",
    "\n",
    "test['Weekday'] = [datetime.weekday(date) for date in test.DateTime]\n",
    "test['Year'] = [date.year for date in test.DateTime]\n",
    "test['Month'] = [date.month for date in test.DateTime]\n",
    "test['Day'] = [date.day for date in test.DateTime]\n",
    "test['Time'] = [((date.hour*60+(date.minute))*60)+date.second for date in test.DateTime]\n",
    "test['Week'] = [date.week for date in test.DateTime]\n",
    "test['Quarter'] = [date.quarter for date in test.DateTime]"
   ]
  },
  {
   "cell_type": "code",
   "execution_count": null,
   "metadata": {},
   "outputs": [],
   "source": []
  },
  {
   "cell_type": "code",
   "execution_count": 18,
   "metadata": {},
   "outputs": [],
   "source": [
    "# # create an instance for tree feature selection\n",
    "# tree_clf = RandomForestClassifier()\n",
    "\n",
    "# # first create arrays holding input and output data\n",
    "# # get the features into an array X\n",
    "# # remove target column from the df\n",
    "# train_features = train.drop(['Vehicles'], axis=1)\n",
    "\n",
    "# # Convet timestamp to seconds\n",
    "# train_features = datetounix(train_features)\n",
    "\n",
    "# # store features in X array\n",
    "# X = train_features.values\n",
    "\n",
    "# # Store target feature in y array\n",
    "# y = train['Vehicles'].values\n",
    "\n",
    "# # fit the model\n",
    "# tree_clf.fit(X, y)\n",
    "\n",
    "# # Preparing variables\n",
    "# importances = tree_clf.feature_importances_\n",
    "# feature_names = train_features.columns.tolist()\n",
    "\n",
    "# feature_imp_dict = dict(zip(feature_names, importances))\n",
    "# sorted_features = sorted(feature_imp_dict.items(), key=operator.itemgetter(1), reverse=True)\n",
    "\n",
    "# indices = np.argsort(importances)[::-1]\n",
    "\n",
    "# # Print the feature ranking\n",
    "# print(\"Feature ranking:\")\n",
    "\n",
    "# for f in range(X.shape[1]):\n",
    "#     print(\"feature %d : %s (%f)\" % (indices[f], sorted_features[f][0], sorted_features[f][1]))\n",
    "\n",
    "# # Plot the feature importances of the forest\n",
    "# plt.figure(0)\n",
    "# plt.title(\"Feature importances\")\n",
    "# plt.bar(range(X.shape[1]), importances[indices],\n",
    "#        color=\"r\", align=\"center\")\n",
    "# plt.xticks(range(X.shape[1]), indices)\n",
    "# plt.xlim([-1, X.shape[1]])\n",
    "# plt.show()"
   ]
  },
  {
   "cell_type": "code",
   "execution_count": 19,
   "metadata": {},
   "outputs": [],
   "source": [
    "# print(\"Junction\")\n",
    "# print(\"X_test :\",X_test[\"Junction\"].unique())\n",
    "# print(\"X :\",X[\"Junction\"].unique())\n",
    "\n",
    "# print(\"Weekday\")\n",
    "# print(\"X_test :\",X_test[\"Weekday\"].unique())\n",
    "# print(\"X :\",X[\"Weekday\"].unique())\n",
    "\n",
    "# print(\"Day\")\n",
    "# print(\"X_test :\",X_test[\"Day\"].unique())\n",
    "# print(\"X :\",X[\"Day\"].unique())"
   ]
  },
  {
   "cell_type": "code",
   "execution_count": 20,
   "metadata": {},
   "outputs": [],
   "source": [
    "######################################## X_test creation for Prediction #################################\n",
    "\n",
    "# Convert timestamp to seconds\n",
    "test_features = datetounix(test.drop(['Year', 'Quarter', 'Month'], axis=1))\n",
    "\n",
    "# Create X_test from the test set\n",
    "\"\"\n",
    "X_test = test_features\n",
    "X_test[ 'Junction' ]                    = X_test[ 'Junction' ].astype('str')\n",
    "X_test[ 'Weekday' ]                     = X_test[ 'Weekday' ].astype('str')\n",
    "X_test[ 'Day' ]                         = X_test[ 'Day' ].astype('str')\n",
    "X_test = pd.get_dummies(X_test)\n",
    "######################################## Dropping Features from train set #######################\n",
    "\n",
    "train_features = train.drop(['Vehicles','Year', 'Quarter', 'Month'], axis=1)\n",
    "\n",
    "# Convert timestamp to seconds\n",
    "train_features = datetounix(train_features)\n",
    "\n",
    "# store features in X array\n",
    "X = train_features  \n",
    "X[ 'Junction' ]                    = X[ 'Junction' ].astype('str')\n",
    "X[ 'Weekday' ]                     = X[ 'Weekday' ].astype('str')\n",
    "X[ 'Day' ]                         = X[ 'Day' ].astype('str')\n",
    "X = pd.get_dummies(X)\n",
    "# store target in y array\n",
    "y = train['Vehicles'].to_frame()"
   ]
  },
  {
   "cell_type": "code",
   "execution_count": 21,
   "metadata": {},
   "outputs": [
    {
     "data": {
      "text/html": [
       "<div>\n",
       "<style scoped>\n",
       "    .dataframe tbody tr th:only-of-type {\n",
       "        vertical-align: middle;\n",
       "    }\n",
       "\n",
       "    .dataframe tbody tr th {\n",
       "        vertical-align: top;\n",
       "    }\n",
       "\n",
       "    .dataframe thead th {\n",
       "        text-align: right;\n",
       "    }\n",
       "</style>\n",
       "<table border=\"1\" class=\"dataframe\">\n",
       "  <thead>\n",
       "    <tr style=\"text-align: right;\">\n",
       "      <th></th>\n",
       "      <th>DateTime</th>\n",
       "      <th>Time</th>\n",
       "      <th>Week</th>\n",
       "      <th>Junction_1</th>\n",
       "      <th>Junction_2</th>\n",
       "      <th>Junction_3</th>\n",
       "      <th>Junction_4</th>\n",
       "      <th>Weekday_0</th>\n",
       "      <th>Weekday_1</th>\n",
       "      <th>Weekday_2</th>\n",
       "      <th>...</th>\n",
       "      <th>Day_29</th>\n",
       "      <th>Day_3</th>\n",
       "      <th>Day_30</th>\n",
       "      <th>Day_31</th>\n",
       "      <th>Day_4</th>\n",
       "      <th>Day_5</th>\n",
       "      <th>Day_6</th>\n",
       "      <th>Day_7</th>\n",
       "      <th>Day_8</th>\n",
       "      <th>Day_9</th>\n",
       "    </tr>\n",
       "  </thead>\n",
       "  <tbody>\n",
       "    <tr>\n",
       "      <th>0</th>\n",
       "      <td>1.446316e+09</td>\n",
       "      <td>0</td>\n",
       "      <td>44</td>\n",
       "      <td>1</td>\n",
       "      <td>0</td>\n",
       "      <td>0</td>\n",
       "      <td>0</td>\n",
       "      <td>0</td>\n",
       "      <td>0</td>\n",
       "      <td>0</td>\n",
       "      <td>...</td>\n",
       "      <td>0</td>\n",
       "      <td>0</td>\n",
       "      <td>0</td>\n",
       "      <td>0</td>\n",
       "      <td>0</td>\n",
       "      <td>0</td>\n",
       "      <td>0</td>\n",
       "      <td>0</td>\n",
       "      <td>0</td>\n",
       "      <td>0</td>\n",
       "    </tr>\n",
       "    <tr>\n",
       "      <th>1</th>\n",
       "      <td>1.446320e+09</td>\n",
       "      <td>3600</td>\n",
       "      <td>44</td>\n",
       "      <td>1</td>\n",
       "      <td>0</td>\n",
       "      <td>0</td>\n",
       "      <td>0</td>\n",
       "      <td>0</td>\n",
       "      <td>0</td>\n",
       "      <td>0</td>\n",
       "      <td>...</td>\n",
       "      <td>0</td>\n",
       "      <td>0</td>\n",
       "      <td>0</td>\n",
       "      <td>0</td>\n",
       "      <td>0</td>\n",
       "      <td>0</td>\n",
       "      <td>0</td>\n",
       "      <td>0</td>\n",
       "      <td>0</td>\n",
       "      <td>0</td>\n",
       "    </tr>\n",
       "  </tbody>\n",
       "</table>\n",
       "<p>2 rows Ã 45 columns</p>\n",
       "</div>"
      ],
      "text/plain": [
       "       DateTime  Time  Week  Junction_1  Junction_2  Junction_3  Junction_4  \\\n",
       "0  1.446316e+09     0    44           1           0           0           0   \n",
       "1  1.446320e+09  3600    44           1           0           0           0   \n",
       "\n",
       "   Weekday_0  Weekday_1  Weekday_2  ...  Day_29  Day_3  Day_30  Day_31  Day_4  \\\n",
       "0          0          0          0  ...       0      0       0       0      0   \n",
       "1          0          0          0  ...       0      0       0       0      0   \n",
       "\n",
       "   Day_5  Day_6  Day_7  Day_8  Day_9  \n",
       "0      0      0      0      0      0  \n",
       "1      0      0      0      0      0  \n",
       "\n",
       "[2 rows x 45 columns]"
      ]
     },
     "execution_count": 21,
     "metadata": {},
     "output_type": "execute_result"
    }
   ],
   "source": [
    "X.head(2)"
   ]
  },
  {
   "cell_type": "code",
   "execution_count": 22,
   "metadata": {},
   "outputs": [
    {
     "data": {
      "text/plain": [
       "(11808, 45)"
      ]
     },
     "execution_count": 22,
     "metadata": {},
     "output_type": "execute_result"
    }
   ],
   "source": [
    "X_test.shape"
   ]
  },
  {
   "cell_type": "code",
   "execution_count": 23,
   "metadata": {},
   "outputs": [
    {
     "data": {
      "text/plain": [
       "(48120, 45)"
      ]
     },
     "execution_count": 23,
     "metadata": {},
     "output_type": "execute_result"
    }
   ],
   "source": [
    "X.shape"
   ]
  },
  {
   "cell_type": "code",
   "execution_count": 24,
   "metadata": {},
   "outputs": [
    {
     "data": {
      "text/plain": [
       "(48120, 1)"
      ]
     },
     "execution_count": 24,
     "metadata": {},
     "output_type": "execute_result"
    }
   ],
   "source": [
    "y.shape"
   ]
  },
  {
   "cell_type": "code",
   "execution_count": 25,
   "metadata": {},
   "outputs": [
    {
     "data": {
      "image/png": "[encoded data removed]",
      "text/plain": [
       "<Figure size 432x288 with 1 Axes>"
      ]
     },
     "metadata": {
      "needs_background": "light"
     },
     "output_type": "display_data"
    }
   ],
   "source": [
    "# Visualising the histogram for positive reviews only from train and dataset\n",
    "data = train.Vehicles\n",
    "binwidth = 1\n",
    "plt.hist(data, bins=range(min(data), max(data) + binwidth, binwidth), log=False)\n",
    "plt.title(\"Gaussian Histogram\")\n",
    "plt.xlabel(\"Traffic\")\n",
    "plt.ylabel(\"Number of times\")\n",
    "plt.show()"
   ]
  },
  {
   "cell_type": "code",
   "execution_count": 26,
   "metadata": {},
   "outputs": [],
   "source": [
    "counter = 90"
   ]
  },
  {
   "cell_type": "code",
   "execution_count": 27,
   "metadata": {},
   "outputs": [
    {
     "name": "stdout",
     "output_type": "stream",
     "text": [
      "The time taken to execute is 0.834998369216919 seconds\n"
     ]
    },
    {
     "data": {
      "text/html": [
       "<div>\n",
       "<style scoped>\n",
       "    .dataframe tbody tr th:only-of-type {\n",
       "        vertical-align: middle;\n",
       "    }\n",
       "\n",
       "    .dataframe tbody tr th {\n",
       "        vertical-align: top;\n",
       "    }\n",
       "\n",
       "    .dataframe thead th {\n",
       "        text-align: right;\n",
       "    }\n",
       "</style>\n",
       "<table border=\"1\" class=\"dataframe\">\n",
       "  <thead>\n",
       "    <tr style=\"text-align: right;\">\n",
       "      <th></th>\n",
       "      <th>ID</th>\n",
       "      <th>Vehicles</th>\n",
       "    </tr>\n",
       "  </thead>\n",
       "  <tbody>\n",
       "    <tr>\n",
       "      <th>0</th>\n",
       "      <td>20170701001</td>\n",
       "      <td>68</td>\n",
       "    </tr>\n",
       "    <tr>\n",
       "      <th>1</th>\n",
       "      <td>20170701011</td>\n",
       "      <td>54</td>\n",
       "    </tr>\n",
       "    <tr>\n",
       "      <th>2</th>\n",
       "      <td>20170701021</td>\n",
       "      <td>41</td>\n",
       "    </tr>\n",
       "    <tr>\n",
       "      <th>3</th>\n",
       "      <td>20170701031</td>\n",
       "      <td>42</td>\n",
       "    </tr>\n",
       "    <tr>\n",
       "      <th>4</th>\n",
       "      <td>20170701041</td>\n",
       "      <td>36</td>\n",
       "    </tr>\n",
       "  </tbody>\n",
       "</table>\n",
       "</div>"
      ],
      "text/plain": [
       "            ID  Vehicles\n",
       "0  20170701001        68\n",
       "1  20170701011        54\n",
       "2  20170701021        41\n",
       "3  20170701031        42\n",
       "4  20170701041        36"
      ]
     },
     "metadata": {},
     "output_type": "display_data"
    }
   ],
   "source": [
    "# Data prep\n",
    "df_solution = pd.DataFrame()\n",
    "df_solution['ID'] = test_ID\n",
    "\n",
    "# Starting time for time calculations\n",
    "start_time = time.time()\n",
    "\n",
    "value = 16\n",
    "# Create decision tree object\n",
    "clf = DecisionTreeClassifier(criterion='gini',  max_depth = 100,\n",
    "                            random_state = value\n",
    "                            )\n",
    "\n",
    "# fit the model\n",
    "clf = clf.fit(X, y)\n",
    "\n",
    "# predict the outcome for testing data\n",
    "predictions = clf.predict(X_test)\n",
    "\n",
    "print(\"The time taken to execute is %s seconds\" % (time.time() - start_time))\n",
    "\n",
    "# Prepare Solution dataframe\n",
    "df_solution['Vehicles'] = predictions\n",
    "display(df_solution.head())\n",
    "\n",
    "submission_location = r\"C:/Users/LD196YS/Desktop/0.                          Winning_Kaggle/1. AV - HR Analytics Hackathon/0.      IOT ML Hackathon/2. Final Data/2.Output/\"\n",
    "classifier_name = \"Decision_Tree_DT_Gini_Max_depth=100_Random_state=\"+str(value)\n",
    "\n",
    "counter = counter + 1\n",
    "df_solution.to_csv(submission_location+\"S\"+str(counter)+\" \"+classifier_name+\".csv\", index = False)"
   ]
  },
  {
   "cell_type": "code",
   "execution_count": 28,
   "metadata": {},
   "outputs": [
    {
     "ename": "SyntaxError",
     "evalue": "invalid syntax (<ipython-input-28-129109b598f5>, line 1)",
     "output_type": "error",
     "traceback": [
      "\u001b[1;36m  File \u001b[1;32m\"<ipython-input-28-129109b598f5>\"\u001b[1;36m, line \u001b[1;32m1\u001b[0m\n\u001b[1;33m    STOPP !!!\u001b[0m\n\u001b[1;37m          ^\u001b[0m\n\u001b[1;31mSyntaxError\u001b[0m\u001b[1;31m:\u001b[0m invalid syntax\n"
     ]
    }
   ],
   "source": [
    "STOPP !!!"
   ]
  },
  {
   "cell_type": "code",
   "execution_count": null,
   "metadata": {},
   "outputs": [],
   "source": [
    "# def generate_feature_target(data,drop_variables):\n",
    "    \n",
    "#     X_data = data.drop( drop_variables, axis = 1 )\n",
    "#     y_data = data[ drop_variables[0] ].to_frame()\n",
    "    \n",
    "#     return X_data, y_data\n",
    "\n",
    "# # NOTE : Always mention Target Variable as 1st Drop Variable:\n",
    "# drop_variables = [\"Vehicles\"]\n",
    "# X_train, y_train = generate_feature_target(train ,drop_variables)\n",
    "# X_test = test\n",
    "\n",
    "# counter                 = 1\n",
    "# fold                    = KFold( n_splits=5, random_state = 0 )\n",
    "# y_pred_list             = []\n",
    "# print(\"X_train.shape\",X_train.shape,\" | y_train.shape\",y_train.shape)\n",
    "\n",
    "# def ens(X_train, y_train) :\n",
    "#     counter = 60\n",
    "#     for train_index, test_index in fold.split(X_train,y_train) :\n",
    "#         y_train = y_train.astype('str')\n",
    "#         x_train_new, x_val = X_train.iloc[train_index], X_train.iloc[test_index]\n",
    "#         y_train_new, y_val = y_train.iloc[train_index], y_train.iloc[test_index]\n",
    "            \n",
    "#         clf = DecisionTreeClassifier(criterion='gini', max_depth = 10, random_state = 16)    \n",
    "#         clf.fit( x_train_new,y_train_new )            \n",
    "#         y_val_pred = clf.predict(x_val)\n",
    "#         y_pred_list.append(y_val_pred)\n",
    "#         counter = counter + 1\n",
    "\n",
    "#     np.mean(y_pred_list)\n",
    "#     return True\n",
    "\n",
    "# value = ens(X_train, y_train)\n",
    "\n",
    "# # value = Data prep\n",
    "# df_solution = pd.DataFrame()\n",
    "# df_solution['ID'] = test_ID\n",
    "\n",
    "# # Prepare Solution dataframe\n",
    "# df_solution['Vehicles'] = y_pred_list\n",
    "# display(df_solution.head())\n",
    "\n",
    "# submission_location = r\"C:/Users/LD196YS/Desktop/0.                          Winning_Kaggle/1. AV - HR Analytics Hackathon/0.      IOT ML Hackathon/2. Final Data/2.Output/\"\n",
    "# classifier_name = \"'XGBClassifier_Random_state=\"+str(value)\n",
    "\n",
    "# counter = counter + 1\n",
    "# df_solution.to_csv(submission_location+\"S\"+str(counter)+\" \"+classifier_name+\".csv\", index = False)"
   ]
  },
  {
   "cell_type": "code",
   "execution_count": null,
   "metadata": {},
   "outputs": [],
   "source": [
    "Tree_Classifiers = {\n",
    "                     '0.Decision_Tree' : DecisionTreeClassifier(),\n",
    "                     '1.Random_Forest' : RandomForestClassifier(n_estimators=100, random_state=16), \n",
    "                     '2.Extra_Trees'   : ExtraTreesClassifier(),  \n",
    "                     '3.Bagging'       : BaggingClassifier(base_estimator = DecisionTreeClassifier(),  n_estimators = 500, random_state = 0)\n",
    "                   }\n",
    "\n",
    "print( list(Tree_Classifiers.keys()) )\n",
    "# print( list(Tree_Classifiers.values()) )"
   ]
  },
  {
   "cell_type": "code",
   "execution_count": null,
   "metadata": {},
   "outputs": [],
   "source": [
    "# # Data prep\n",
    "# df_solution = pd.DataFrame()\n",
    "# df_solution['ID'] = test_ID\n",
    "\n",
    "# # Starting time for time calculations\n",
    "# start_time = time.time()\n",
    "\n",
    "# value = 0\n",
    "# # Create decision tree object\n",
    "# clf = XGBClassifier(learning_rate =0.1, n_estimators=1000, max_depth=5,subsample = 0.70, \n",
    "#                                                               objective='multiclass', scale_pos_weight = 2.5,updater =\"grow_histmaker\",base_score  = 0.2,\n",
    "#                                                                )\n",
    "\n",
    "# # fit the model\n",
    "# clf.fit(X, y)\n",
    "\n",
    "# # predict the outcome for testing data\n",
    "# predictions = clf.predict(X_test)\n",
    "\n",
    "# print(\"The time taken to execute is %s seconds\" % (time.time() - start_time))\n",
    "\n",
    "# # Prepare Solution dataframe\n",
    "# df_solution['Vehicles'] = predictions\n",
    "# display(df_solution.head())\n",
    "\n",
    "# submission_location = r\"C:/Users/LD196YS/Desktop/0.                          Winning_Kaggle/1. AV - HR Analytics Hackathon/0.      IOT ML Hackathon/2. Final Data/2.Output/\"\n",
    "# classifier_name = \"'XGBClassifier_Random_state=\"+str(value)\n",
    "\n",
    "# counter = counter + 1\n",
    "# df_solution.to_csv(submission_location+\"S\"+str(counter)+\" \"+classifier_name+\".csv\", index = False)"
   ]
  },
  {
   "cell_type": "code",
   "execution_count": null,
   "metadata": {},
   "outputs": [],
   "source": []
  }
 ],
 "metadata": {
  "kernelspec": {
   "display_name": "Python 3",
   "language": "python",
   "name": "python3"
  },
  "language_info": {
   "codemirror_mode": {
    "name": "ipython",
    "version": 3
   },
   "file_extension": ".py",
   "mimetype": "text/x-python",
   "name": "python",
   "nbconvert_exporter": "python",
   "pygments_lexer": "ipython3",
   "version": "3.7.5"
  }
 },
 "nbformat": 4,
 "nbformat_minor": 2
}
